{
 "cells": [
  {
   "cell_type": "code",
   "execution_count": 5,
   "metadata": {
    "collapsed": false
   },
   "outputs": [
    {
     "name": "stdout",
     "output_type": "stream",
     "text": [
      "['53049-72ycb\\t经我风控人员对受访者的实地考核，本人名下有一套320平米的平房，每平2000元左右，有家婚庆礼仪门市部，年收入20万左右，现因想购买礼仪录像设备，手头资金短缺，经夫妻双方协商后，特向贵公司平台申请贷款，望总部给予批准，谢谢。\\t\\t现因想购买礼仪录像设备\\t[其他]']\n"
     ]
    }
   ],
   "source": [
    "class_divide = '|'\n",
    "with open('../../Data/parse_out_50w_c.txt','r') as f:\n",
    "    f_lines = list(map(lambda x:x.strip(),f.readlines()))\n",
    "first_line = f_lines[2]\n",
    "f_res = []\n",
    "def parse_line(line):\n",
    "    line = line.split('\\t')\n",
    "    for i in line[-1].split('|'):\n",
    "        f_res.append('\\t'.join(line[0:-1]+[i]))\n",
    "parse_line(first_line)\n",
    "print(f_res)"
   ]
  },
  {
   "cell_type": "code",
   "execution_count": null,
   "metadata": {
    "collapsed": true
   },
   "outputs": [],
   "source": []
  }
 ],
 "metadata": {
  "kernelspec": {
   "display_name": "Python 3",
   "language": "python",
   "name": "python3"
  },
  "language_info": {
   "codemirror_mode": {
    "name": "ipython",
    "version": 3
   },
   "file_extension": ".py",
   "mimetype": "text/x-python",
   "name": "python",
   "nbconvert_exporter": "python",
   "pygments_lexer": "ipython3",
   "version": "3.6.0"
  }
 },
 "nbformat": 4,
 "nbformat_minor": 2
}
