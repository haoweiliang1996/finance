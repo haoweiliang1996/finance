{
 "cells": [
  {
   "cell_type": "code",
   "execution_count": 10,
   "metadata": {
    "collapsed": false
   },
   "outputs": [
    {
     "name": "stdout",
     "output_type": "stream",
     "text": [
      "53112-73ycb\t本人名下有自建房一处约300平方价值30左右，从事养殖行业3年多，主要养殖肉鸡现有肉鸡10000只价值15左右.养殖场地为自有.价值8万多。现因资金周转.申请贷款.建议通过\t从事养殖行业3年多\t现因资金周转.申请贷款.建议通过\t[金融业] 53112-73ycb\t本人名下有自建房一处约300平方价值30左右，从事养殖行业3年多，主要养殖肉鸡现有肉鸡10000只价值15左右.养殖场地为自有.价值8万多。现因资金周转.申请贷款.建议通过\t从事养殖行业3年多\t现因资金周转.申请贷款.建议通过\t[消费, 个人债务]\n"
     ]
    }
   ],
   "source": [
    "class_divide = '|'\n",
    "with open('../../Data/parse_out_50w_client.txt','r') as f:\n",
    "    f_lines = list(map(lambda x:x.strip(),f.readlines()))\n",
    "first_line = f_lines[39]\n",
    "f_res = []\n",
    "def parse_line(line):\n",
    "    line = line.split('\\t')\n",
    "    for i in line[-1].split('|'):\n",
    "        f_res.append('\\t'.join(line[0:-1]+[i]))\n",
    "parse_line(first_line)\n",
    "list(map(parse_line,f_lines))\n",
    "print(f_res[0],f_res[1])"
   ]
  },
  {
   "cell_type": "code",
   "execution_count": null,
   "metadata": {
    "collapsed": true
   },
   "outputs": [],
   "source": []
  }
 ],
 "metadata": {
  "kernelspec": {
   "display_name": "Python 3",
   "language": "python",
   "name": "python3"
  },
  "language_info": {
   "codemirror_mode": {
    "name": "ipython",
    "version": 3
   },
   "file_extension": ".py",
   "mimetype": "text/x-python",
   "name": "python",
   "nbconvert_exporter": "python",
   "pygments_lexer": "ipython3",
   "version": "3.6.0"
  }
 },
 "nbformat": 4,
 "nbformat_minor": 2
}
