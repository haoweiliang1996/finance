{
 "cells": [
  {
   "cell_type": "code",
   "execution_count": 7,
   "metadata": {
    "collapsed": false
   },
   "outputs": [
    {
     "name": "stdout",
     "output_type": "stream",
     "text": [
      "51824-72ycb\t本人，自有房产一处、养羊一百五十六只、土地十四亩、信誉良好。夫妻关系和睦、本次借款用于扩大养殖。由于缺少部分资金，望翼龙贷给予帮助。\t\t夫妻关系和睦、本次借款用于扩大养殖\t[农、林、牧、渔业]\n"
     ]
    }
   ],
   "source": [
    "class_divide = '|'\n",
    "with open('../../Data/parse_out_50w_client.txt.txt','r') as f:\n",
    "    f_lines = list(map(lambda x:x.strip(),f.readlines()))\n",
    "first_line = f_lines[2]\n",
    "f_res = []\n",
    "def parse_line(line):\n",
    "    line = line.split('\\t')\n",
    "    for i in line[-1].split('|'):\n",
    "        f_res.append('\\t'.join(line[0:-1]+[i]))\n",
    "#parse_line(first_line)\n",
    "list(map(parse_line,f_lines))\n",
    "print(f_res[0])"
   ]
  },
  {
   "cell_type": "code",
   "execution_count": null,
   "metadata": {
    "collapsed": true
   },
   "outputs": [],
   "source": []
  }
 ],
 "metadata": {
  "kernelspec": {
   "display_name": "Python 3",
   "language": "python",
   "name": "python3"
  },
  "language_info": {
   "codemirror_mode": {
    "name": "ipython",
    "version": 3
   },
   "file_extension": ".py",
   "mimetype": "text/x-python",
   "name": "python",
   "nbconvert_exporter": "python",
   "pygments_lexer": "ipython3",
   "version": "3.6.0"
  }
 },
 "nbformat": 4,
 "nbformat_minor": 2
}
